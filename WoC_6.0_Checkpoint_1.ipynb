{
 "cells": [
  {
   "cell_type": "code",
   "execution_count": 66,
   "metadata": {},
   "outputs": [
    {
     "data": {
      "text/plain": [
       "array([[1, 3],\n",
       "       [2, 4]])"
      ]
     },
     "execution_count": 66,
     "metadata": {},
     "output_type": "execute_result"
    }
   ],
   "source": [
    "import numpy as np\n",
    "\n",
    "# create an array with desired values\n",
    "np_arr = np.array([[1,2],[3,4]])\n",
    "\n",
    "np_arr.T"
   ]
  },
  {
   "cell_type": "code",
   "execution_count": 11,
   "metadata": {},
   "outputs": [
    {
     "data": {
      "text/plain": [
       "array([[0., 0., 0., 0.],\n",
       "       [0., 0., 0., 0.],\n",
       "       [0., 0., 0., 0.]])"
      ]
     },
     "execution_count": 11,
     "metadata": {},
     "output_type": "execute_result"
    }
   ],
   "source": [
    "# create an array of desired shape initiated with value zero\n",
    "np_arr_zeros = np.zeros((3,4))\n",
    "np_arr_zeros"
   ]
  },
  {
   "cell_type": "code",
   "execution_count": 12,
   "metadata": {},
   "outputs": [
    {
     "data": {
      "text/plain": [
       "array([[1., 1., 1., 1.],\n",
       "       [1., 1., 1., 1.],\n",
       "       [1., 1., 1., 1.]])"
      ]
     },
     "execution_count": 12,
     "metadata": {},
     "output_type": "execute_result"
    }
   ],
   "source": [
    "# create an array of desired shape initiated with value one\n",
    "np_arr_ones = np.ones((3,4))\n",
    "np_arr_ones"
   ]
  },
  {
   "cell_type": "code",
   "execution_count": 16,
   "metadata": {},
   "outputs": [
    {
     "data": {
      "text/plain": [
       "(array([[1., 1., 1.],\n",
       "        [1., 1., 1.],\n",
       "        [1., 1., 1.],\n",
       "        [1., 1., 1.]]),\n",
       " array([[1., 1., 1., 1., 1., 1.],\n",
       "        [1., 1., 1., 1., 1., 1.]]))"
      ]
     },
     "execution_count": 16,
     "metadata": {},
     "output_type": "execute_result"
    }
   ],
   "source": [
    "# reshape an array with new given shape, sizes should be compatible to reshape an array\n",
    "np_reshape_Arr_1 = np.reshape(np_arr_ones, (4,3))\n",
    "np_reshape_Arr_2 = np.reshape(np_arr_ones, (2,6))\n",
    "np_reshape_Arr_1, np_reshape_Arr_2"
   ]
  },
  {
   "cell_type": "code",
   "execution_count": 24,
   "metadata": {},
   "outputs": [
    {
     "data": {
      "text/plain": [
       "array([[0., 0., 0.],\n",
       "       [0., 0., 0.],\n",
       "       [0., 0., 0.],\n",
       "       [1., 1., 1.],\n",
       "       [1., 1., 1.]])"
      ]
     },
     "execution_count": 24,
     "metadata": {},
     "output_type": "execute_result"
    }
   ],
   "source": [
    "# Join a sequence of arrays on the given axis\n",
    "a1 = np.zeros((3,3))\n",
    "a2 = np.ones((2,3))\n",
    "np.concatenate((a1, a2), axis=0)"
   ]
  },
  {
   "cell_type": "code",
   "execution_count": 29,
   "metadata": {},
   "outputs": [
    {
     "data": {
      "text/plain": [
       "array([1.5, 3.5])"
      ]
     },
     "execution_count": 29,
     "metadata": {},
     "output_type": "execute_result"
    }
   ],
   "source": [
    "# calculate the mean of all the elements of an array if no axis parameter given, else calculate the mean along the given axis\n",
    "arr = np.array([[1,2],[3,4]])\n",
    "np.mean(arr, axis=1)"
   ]
  },
  {
   "cell_type": "code",
   "execution_count": 37,
   "metadata": {},
   "outputs": [
    {
     "data": {
      "text/plain": [
       "9.0"
      ]
     },
     "execution_count": 37,
     "metadata": {},
     "output_type": "execute_result"
    }
   ],
   "source": [
    "# calculate the sum of all the elements of an array\n",
    "a1 = np.ones((3,3))\n",
    "np.sum((a1))"
   ]
  },
  {
   "cell_type": "code",
   "execution_count": 40,
   "metadata": {},
   "outputs": [
    {
     "data": {
      "text/plain": [
       "0.5"
      ]
     },
     "execution_count": 40,
     "metadata": {},
     "output_type": "execute_result"
    }
   ],
   "source": [
    "# calculate the minimum value among all the elements of an array\n",
    "a1 = np.array([[1,2], [3,4], [0.5,2.5]])\n",
    "np.min(a1)"
   ]
  },
  {
   "cell_type": "code",
   "execution_count": 39,
   "metadata": {},
   "outputs": [
    {
     "data": {
      "text/plain": [
       "4.0"
      ]
     },
     "execution_count": 39,
     "metadata": {},
     "output_type": "execute_result"
    }
   ],
   "source": [
    "# calculate the maximum value among all the elements of an array\n",
    "a1 = np.array([[1,2], [3,4], [0.5,2.5]])\n",
    "np.max(a1)"
   ]
  },
  {
   "cell_type": "code",
   "execution_count": 43,
   "metadata": {},
   "outputs": [
    {
     "data": {
      "text/plain": [
       "(array([1, 1, 1]), array([1, 1]))"
      ]
     },
     "execution_count": 43,
     "metadata": {},
     "output_type": "execute_result"
    }
   ],
   "source": [
    "# calculate the index of maximum value among all the elements of an array along the given axis\n",
    "a1 = np.array([[1,2], [3,4], [0.5,2.5]])\n",
    "np.argmax(a1, axis=1), np.argmax(a1, axis=0)"
   ]
  },
  {
   "cell_type": "code",
   "execution_count": 44,
   "metadata": {},
   "outputs": [
    {
     "data": {
      "text/plain": [
       "(array([0, 0, 0]), array([2, 0]))"
      ]
     },
     "execution_count": 44,
     "metadata": {},
     "output_type": "execute_result"
    }
   ],
   "source": [
    "# calculate the index of minimum value among all the elements of an array along the given axis\n",
    "a1 = np.array([[1,2], [3,4], [0.5,2.5]])\n",
    "np.argmin(a1, axis=1), np.argmin(a1, axis=0)"
   ]
  },
  {
   "cell_type": "code",
   "execution_count": 45,
   "metadata": {},
   "outputs": [
    {
     "data": {
      "text/plain": [
       "array([[0.48279794, 0.09468882, 0.04493733, 0.40840599],\n",
       "       [0.21763558, 0.65780483, 0.48670763, 0.65496877]])"
      ]
     },
     "execution_count": 45,
     "metadata": {},
     "output_type": "execute_result"
    }
   ],
   "source": [
    "# returns random values in a given shape\n",
    "np_arr_rand = np.random.rand(2,4)\n",
    "np_arr_rand"
   ]
  },
  {
   "cell_type": "code",
   "execution_count": 49,
   "metadata": {},
   "outputs": [
    {
     "data": {
      "text/plain": [
       "array([[-1.09717731, -1.11513581,  0.31510068,  0.624703  ],\n",
       "       [ 0.42636562,  0.35106601,  0.09673749,  1.53350859]])"
      ]
     },
     "execution_count": 49,
     "metadata": {},
     "output_type": "execute_result"
    }
   ],
   "source": [
    "# creates an array filled with random values as per standard normal distribution in a given shape\n",
    "np_arr_randn = np.random.randn(2,4)\n",
    "np_arr_randn"
   ]
  },
  {
   "cell_type": "code",
   "execution_count": 70,
   "metadata": {},
   "outputs": [
    {
     "data": {
      "text/plain": [
       "array([[ 4, 10,  6],\n",
       "       [ 8, 15,  1]])"
      ]
     },
     "execution_count": 70,
     "metadata": {},
     "output_type": "execute_result"
    }
   ],
   "source": [
    "# creates an array filled with integer values from start to end value in the given shape/size\n",
    "np_arr_randint = np.random.randint(1,17, size=(2,3))\n",
    "np_arr_randint"
   ]
  },
  {
   "cell_type": "code",
   "execution_count": 73,
   "metadata": {},
   "outputs": [
    {
     "data": {
      "text/plain": [
       "(array([[[3],\n",
       "         [3],\n",
       "         [3],\n",
       "         [3]],\n",
       " \n",
       "        [[3],\n",
       "         [3],\n",
       "         [3],\n",
       "         [2]]]),\n",
       " array([[[1, 1]],\n",
       " \n",
       "        [[1, 1]],\n",
       " \n",
       "        [[1, 1]],\n",
       " \n",
       "        [[1, 1]]]),\n",
       " array([[[[3, 3],\n",
       "          [3, 3],\n",
       "          [3, 3],\n",
       "          [3, 3]],\n",
       " \n",
       "         [[3, 3],\n",
       "          [3, 3],\n",
       "          [3, 3],\n",
       "          [3, 3]],\n",
       " \n",
       "         [[3, 3],\n",
       "          [3, 3],\n",
       "          [3, 3],\n",
       "          [3, 3]],\n",
       " \n",
       "         [[3, 3],\n",
       "          [3, 3],\n",
       "          [3, 3],\n",
       "          [3, 3]]],\n",
       " \n",
       " \n",
       "        [[[3, 3],\n",
       "          [3, 3],\n",
       "          [3, 3],\n",
       "          [3, 3]],\n",
       " \n",
       "         [[3, 3],\n",
       "          [3, 3],\n",
       "          [3, 3],\n",
       "          [3, 3]],\n",
       " \n",
       "         [[3, 3],\n",
       "          [3, 3],\n",
       "          [3, 3],\n",
       "          [3, 3]],\n",
       " \n",
       "         [[2, 2],\n",
       "          [2, 2],\n",
       "          [2, 2],\n",
       "          [2, 2]]]]))"
      ]
     },
     "execution_count": 73,
     "metadata": {},
     "output_type": "execute_result"
    }
   ],
   "source": [
    "# Dot product of two array under condition that last dimension in a1 is equal to second to last dimension of a2\n",
    "a1 = np.random.randint(2,4, size=(2,4,1))\n",
    "a2 = np.random.randint(1,2, size=(4,1,2))\n",
    "a1, a2, np.dot(a1, a2)"
   ]
  }
 ],
 "metadata": {
  "kernelspec": {
   "display_name": "Python 3",
   "language": "python",
   "name": "python3"
  },
  "language_info": {
   "codemirror_mode": {
    "name": "ipython",
    "version": 3
   },
   "file_extension": ".py",
   "mimetype": "text/x-python",
   "name": "python",
   "nbconvert_exporter": "python",
   "pygments_lexer": "ipython3",
   "version": "3.10.12"
  },
  "orig_nbformat": 4
 },
 "nbformat": 4,
 "nbformat_minor": 2
}
